{
  "nbformat": 4,
  "nbformat_minor": 0,
  "metadata": {
    "colab": {
      "provenance": []
    },
    "kernelspec": {
      "name": "python3",
      "display_name": "Python 3"
    },
    "language_info": {
      "name": "python"
    }
  },
  "cells": [
    {
      "cell_type": "code",
      "execution_count": 4,
      "metadata": {
        "colab": {
          "base_uri": "https://localhost:8080/"
        },
        "id": "SmcZ2sOVJ96d",
        "outputId": "faae468d-14a1-4af3-991e-d95e1d5517f9"
      },
      "outputs": [
        {
          "output_type": "stream",
          "name": "stdout",
          "text": [
            "[[ 2  4  6  8]\n",
            " [10 12 14 16]\n",
            " [18 20 22 24]\n",
            " [26 28 30 32]]\n"
          ]
        }
      ],
      "source": [
        "# TASK1\n",
        "\n",
        "import numpy as np\n",
        "v = np.arange(2, 33, 2).reshape(4, 4)\n",
        "print(v)\n",
        "\n"
      ]
    },
    {
      "cell_type": "code",
      "source": [
        "# TASK2\n",
        "\n",
        "import numpy as np\n",
        "original_array = np.arange(1, 26).reshape(5, 5)\n",
        "odd_numbers_array = original_array[original_array % 2 != 0]\n",
        "\n",
        "print(\"Original 5x5 array:\")\n",
        "print(original_array)\n",
        "\n",
        "print(\"\\nArray with only odd numbers:\")\n",
        "print(odd_numbers_array)\n"
      ],
      "metadata": {
        "colab": {
          "base_uri": "https://localhost:8080/"
        },
        "id": "4Xx3zHDvMxB0",
        "outputId": "00005f20-a01b-4691-8d5e-6a536eb96887"
      },
      "execution_count": 5,
      "outputs": [
        {
          "output_type": "stream",
          "name": "stdout",
          "text": [
            "Original 5x5 array:\n",
            "[[ 1  2  3  4  5]\n",
            " [ 6  7  8  9 10]\n",
            " [11 12 13 14 15]\n",
            " [16 17 18 19 20]\n",
            " [21 22 23 24 25]]\n",
            "\n",
            "Array with only odd numbers:\n",
            "[ 1  3  5  7  9 11 13 15 17 19 21 23 25]\n"
          ]
        }
      ]
    },
    {
      "cell_type": "code",
      "source": [
        "# TASK3\n",
        "\n",
        "import numpy as np\n",
        "V = np.arange(1, 5).reshape(4, 1) * np.ones((1, 4), dtype=int)\n",
        "\n",
        "print(V)\n"
      ],
      "metadata": {
        "colab": {
          "base_uri": "https://localhost:8080/"
        },
        "id": "Zu1eKPs2OHEk",
        "outputId": "481bb764-3b42-4c7a-ea58-32201d64cf38"
      },
      "execution_count": 6,
      "outputs": [
        {
          "output_type": "stream",
          "name": "stdout",
          "text": [
            "[[1 1 1 1]\n",
            " [2 2 2 2]\n",
            " [3 3 3 3]\n",
            " [4 4 4 4]]\n"
          ]
        }
      ]
    },
    {
      "cell_type": "code",
      "source": [
        "\n"
      ],
      "metadata": {
        "id": "-RHXnf_yOcyR"
      },
      "execution_count": null,
      "outputs": []
    }
  ]
}
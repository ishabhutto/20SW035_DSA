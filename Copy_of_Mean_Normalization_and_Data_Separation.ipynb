{
  "cells": [
    {
      "cell_type": "markdown",
      "metadata": {
        "id": "qQqrOP52Wgm8"
      },
      "source": [
        "# Mean Normalization\n",
        "\n",
        "In machine learning we use large amounts of data to train our models. Some machine learning algorithms may require that the data is *normalized* in order to work correctly. The idea of normalization, also known as *feature scaling*, is to ensure that all the data is on a similar scale, *i.e.* that all the data takes on a similar range of values. For example, we might have a dataset that has values between 0 and 5,000. By normalizing the data we can make the range of values be between 0 and 1.\n",
        "\n",
        "In this lab, you will be performing a different kind of feature scaling known as *mean normalization*. Mean normalization will scale the data, but instead of making the values be between 0 and 1, it will distribute the values evenly in some small interval around zero. For example, if we have a dataset that has values between 0 and 5,000, after mean normalization the range of values will be distributed in some small range around 0, for example between -3 to 3. Because the range of values are distributed evenly around zero, this guarantees that the average (mean) of all elements will be zero. Therefore, when you perform *mean normalization* your data will not only be scaled but it will also have an average of zero.\n",
        "\n",
        "# To Do:\n",
        "\n",
        "You will start by importing NumPy and creating a rank 2 ndarray of random integers between 0 and 5,000 (inclusive) with 1000 rows and 20 columns. This array will simulate a dataset with a wide range of values. Fill in the code below"
      ]
    },
    {
      "cell_type": "code",
      "execution_count": 1,
      "metadata": {
        "colab": {
          "base_uri": "https://localhost:8080/"
        },
        "id": "7KBfrpVFWgnS",
        "outputId": "d0e76e16-99a1-4866-fbe3-66b4710e8315"
      },
      "outputs": [
        {
          "name": "stdout",
          "output_type": "stream",
          "text": [
            "(1000, 20)\n"
          ]
        }
      ],
      "source": [
        "import numpy as np\n",
        "\n",
        "V = np.random.randint(0, 5001, size=(1000, 20))\n",
        "print(V.shape)"
      ]
    },
    {
      "cell_type": "markdown",
      "metadata": {
        "id": "5nyO2EE4Wgnc"
      },
      "source": [
        "Now that you created the array we will mean normalize it. We will perform mean normalization using the following equation:\n",
        "\n",
        "$\\mbox{Norm_Col}_i = \\frac{\\mbox{Col}_i - \\mu_i}{\\sigma_i}$\n",
        "\n",
        "where $\\mbox{Col}_i$ is the $i$th column of $X$, $\\mu_i$ is average of the values in the $i$th column of $X$, and $\\sigma_i$ is the standard deviation of the values in the $i$th column of $X$. In other words, mean normalization is performed by subtracting from each column of $X$ the average of its values, and then by dividing by the standard deviation of its values. In the space below, you will first calculate the average and standard deviation of each column of $X$."
      ]
    },
    {
      "cell_type": "code",
      "execution_count": 2,
      "metadata": {
        "colab": {
          "base_uri": "https://localhost:8080/"
        },
        "id": "zqz1ldRCWgnd",
        "outputId": "1cc15d1e-7841-4313-c928-a238967b7f18"
      },
      "outputs": [
        {
          "name": "stdout",
          "output_type": "stream",
          "text": [
            "Average:\n",
            "[2505.757 2548.357 2541.611 2494.835 2513.747 2490.874 2501.266 2507.763\n",
            " 2437.261 2488.601 2395.173 2492.829 2492.835 2510.373 2516.088 2554.33\n",
            " 2475.137 2485.368 2558.321 2508.813]\n",
            "Standard deviation:\n",
            "[1400.51143371 1418.47783823 1455.05424768 1465.070188   1437.80516587\n",
            " 1407.30742275 1450.04965889 1464.39190753 1401.23806788 1458.13077527\n",
            " 1412.92381857 1430.97334069 1411.28936571 1446.2511939  1457.87007455\n",
            " 1432.10571995 1453.22482508 1444.16783463 1450.80345945 1422.94008167]\n"
          ]
        }
      ],
      "source": [
        "import numpy as np\n",
        "\n",
        "Y = np.random.randint(0, 5001, size=(1000, 20))\n",
        "\n",
        "ave_cols = np.mean(Y, axis=0)\n",
        "std_cols = np.std(Y, axis=0)\n",
        "\n",
        "print(\"Average:\")\n",
        "print(ave_cols)\n",
        "\n",
        "print(\"Standard deviation:\")\n",
        "print(std_cols)\n"
      ]
    },
    {
      "cell_type": "markdown",
      "metadata": {
        "id": "F67XkXwOWgne"
      },
      "source": [
        "If you have done the above calculations correctly, then `ave_cols` and `std_cols`, should both be vectors with shape `(20,)` since $X$ has 20 columns. You can verify this by filling the code below:"
      ]
    },
    {
      "cell_type": "code",
      "execution_count": 3,
      "metadata": {
        "colab": {
          "base_uri": "https://localhost:8080/"
        },
        "id": "Qtx8yvg0Wgng",
        "outputId": "7151b405-7e88-41fa-cdb7-4fa60b3a43be"
      },
      "outputs": [
        {
          "name": "stdout",
          "output_type": "stream",
          "text": [
            "Shape of ave_cols: (20,)\n",
            "Shape of std_cols: (20,)\n"
          ]
        }
      ],
      "source": [
        "import numpy as np\n",
        "\n",
        "\n",
        "X = np.random.randint(0, 5001, size=(1000, 20))\n",
        "ave_cols = np.mean(X, axis=0)\n",
        "std_cols = np.std(X, axis=0)\n",
        "print(\"Shape:\", ave_cols.shape)\n",
        "print(\"Shape:\", std_cols.shape)"
      ]
    },
    {
      "cell_type": "markdown",
      "metadata": {
        "id": "trCuvQBtWgnh"
      },
      "source": [
        "You can now take advantage of Broadcasting to calculate the mean normalized version of $X$ in just one line of code using the equation above. Fill in the code below"
      ]
    },
    {
      "cell_type": "code",
      "execution_count": 4,
      "metadata": {
        "colab": {
          "base_uri": "https://localhost:8080/"
        },
        "id": "CUyPx1mWWgno",
        "outputId": "43c24e4f-9bd3-4f66-d90a-77ef338a7b26"
      },
      "outputs": [
        {
          "name": "stdout",
          "output_type": "stream",
          "text": [
            "Mean normalized X:\n",
            "[[-2430.642   199.6    1283.626 ...   531.594 -2278.765  1367.445]\n",
            " [-2046.642 -1662.4    -834.374 ...   749.594  -618.765  1479.445]\n",
            " [  642.358   -71.4    -182.374 ...   129.594 -2163.765 -2286.555]\n",
            " ...\n",
            " [  638.358  -129.4    1101.626 ...  -317.406 -2090.765 -1017.555]\n",
            " [  706.358 -1640.4     969.626 ...   621.594  1818.235  1896.445]\n",
            " [ 2203.358 -1316.4   -2095.374 ...   -57.406 -2115.765  2463.445]]\n"
          ]
        }
      ],
      "source": [
        "import numpy as np\n",
        "\n",
        "X = np.random.randint(0, 5001, size=(1000, 20))\n",
        "col_means = np.mean(X, axis=0)\n",
        "X_norm = X - col_means\n",
        "\n",
        "print(\"Mean normalized X:\")\n",
        "print(X_norm)\n"
      ]
    },
    {
      "cell_type": "markdown",
      "metadata": {
        "id": "swW4VF8FWgnq"
      },
      "source": [
        "If you have performed the mean normalization correctly, then the average of all the elements in $X_{\\tiny{\\mbox{norm}}}$ should be close to zero, and they should be evenly distributed in some small interval around zero. You can verify this by filing the code below:"
      ]
    },
    {
      "cell_type": "code",
      "execution_count": 5,
      "metadata": {
        "colab": {
          "base_uri": "https://localhost:8080/"
        },
        "id": "4pAfrNF0Wgns",
        "outputId": "6c233427-3188-4c67-d44c-f817e5ebe46a"
      },
      "outputs": [
        {
          "name": "stdout",
          "output_type": "stream",
          "text": [
            "Average of all values in X_norm: -4.765752237290144e-14\n",
            "Average of the minimum value in each column of X_norm: -2487.0498000000002\n",
            "Average of the maximum value in each column of X_norm: 2503.9501999999998\n"
          ]
        }
      ],
      "source": [
        "import numpy as np\n",
        "\n",
        "X = np.random.randint(0, 5001, size=(1000, 20))\n",
        "col_means = np.mean(X, axis=0)\n",
        "X_norm = X - col_means\n",
        "avg_all_values = np.mean(X_norm)\n",
        "avg_min_column = np.mean(np.min(X_norm, axis=0))\n",
        "avg_max_column = np.mean(np.max(X_norm, axis=0))\n",
        "\n",
        "print(\"Average of all values in X_norm:\", avg_all_values)\n",
        "print(\"Average of the minimum value in each column of X_norm:\", avg_min_column)\n",
        "print(\"Average of the maximum value in each column of X_norm:\", avg_max_column)\n"
      ]
    },
    {
      "cell_type": "markdown",
      "metadata": {
        "id": "F9YyOgvmWgnt"
      },
      "source": [
        "You should note that since $X$ was created using random integers, the above values will vary.\n",
        "\n",
        "# Data Separation\n",
        "\n",
        "After the data has been mean normalized, it is customary in machine learnig to split our dataset into three sets:\n",
        "\n",
        "1. A Training Set\n",
        "2. A Cross Validation Set\n",
        "3. A Test Set\n",
        "\n",
        "The dataset is usually divided such that the Training Set contains 60% of the data, the Cross Validation Set contains 20% of the data, and the Test Set contains 20% of the data.\n",
        "\n",
        "In this part of the lab you will separate `X_norm` into a Training Set, Cross Validation Set, and a Test Set. Each data set will contain rows of `X_norm` chosen at random, making sure that we don't pick the same row twice. This will guarantee that all the rows of `X_norm` are chosen and randomly distributed among the three new sets.\n",
        "\n",
        "You will start by creating a rank 1 ndarray that contains a random permutation of the row indices of `X_norm`. You can do this by using the `np.random.permutation()` function. The `np.random.permutation(N)` function creates a random permutation of integers from 0 to `N - 1`. Let's see an example:"
      ]
    },
    {
      "cell_type": "code",
      "execution_count": 6,
      "metadata": {
        "colab": {
          "base_uri": "https://localhost:8080/"
        },
        "id": "69EQyEcpWgnv",
        "outputId": "d3f55c61-93a5-4c8b-b251-1bc1dbadf5c2"
      },
      "outputs": [
        {
          "name": "stdout",
          "output_type": "stream",
          "text": [
            "Random permutation: [1 2 4 0 3]\n"
          ]
        }
      ],
      "source": [
        "import numpy as np\n",
        "\n",
        "\n",
        "random_permutation = np.random.permutation(5)\n",
        "print(\"Random permutation:\", random_permutation)\n"
      ]
    },
    {
      "cell_type": "markdown",
      "metadata": {
        "id": "q81bM9sgWgnw"
      },
      "source": [
        "# To Do\n",
        "\n",
        "In the space below create a rank 1 ndarray that contains a random permutation of the row indices of `X_norm`. You can do this in one line of code by extracting the number of rows of `X_norm` using the `shape` attribute and then passing it to the  `np.random.permutation()` function. Remember the `shape` attribute returns a tuple with two numbers in the form `(rows,columns)`."
      ]
    },
    {
      "cell_type": "code",
      "execution_count": 7,
      "metadata": {
        "colab": {
          "base_uri": "https://localhost:8080/"
        },
        "id": "GCev-Z-eWgnx",
        "outputId": "620a2952-107b-48ff-a3a7-95b87094210a"
      },
      "outputs": [
        {
          "name": "stdout",
          "output_type": "stream",
          "text": [
            "Random permutation of row indices: [601 165 434 381 571 272 312 908 361 512 787 835 873 376 323 235 294 322\n",
            " 748 158 427 105 867 849 829 838 501 978 184 388  56 813 160 520 745 249\n",
            " 188  36 815 827 525 387 794 620 930 557 789 800 705 562 992 693 540   3\n",
            "  10 651 145 382 196 439 457 449 569 761  68 535  80 321 623 746 850 567\n",
            " 647 264 593 668 931   6 499 928 963 547  25 563 451 230 712 480   1 528\n",
            " 233 644 422 202 462 958 879 269 482 755 869 832 467 103 503 952 891 174\n",
            " 327 899 556 220  73 377 589 155 310 344 630 232 853 676 190 315 887 237\n",
            " 715 456 784 717 660 634 774 244 492 641 642  86 248 840 546 401 565 673\n",
            " 286 130  88 366 868 979 126 719   5 304 263  27 886 211 391 795 995  44\n",
            " 845 575 967 983 594 801  22 400 776 406 250 841 132 714 412 428 282 790\n",
            " 179 955 739 696 821 836 669 256 515 917 334 903 350 798  38  67 409 576\n",
            " 890 806 767 919 961 545   8 209 278 708  72 729 496 925 276 595 922 758\n",
            " 635 341 372 440 884 659 804 208 345 135 986 365 732 463 893 258 197 519\n",
            " 926 950 302 356 656 710 857 231 301 740 596 154 471 426  53 618 484 359\n",
            " 937  43 517 632 108  30 460  97 336 638 149 905 603 527 455  87 370 358\n",
            " 373 394 241  79 447 511 622 239 354 842 518 364 509 199  24 378 674 526\n",
            " 695 164 177 111 505 337 144 713 441 968 349 701 181 548 551 613 977 796\n",
            " 975  35 193 498 982 293 566 124 811 709 206  51 914 692 874 577 284 523\n",
            " 223 255 510  42 643  98 698 970 947 191 338 721 521 410 200 707  57 994\n",
            " 665 465 724 424 766 348 236 819 896 379 771 320 568 894 262 353  41 898\n",
            "  15 212 113 204 604 948 969 828 699 847 367 765 823 318 666 960 104 178\n",
            " 161 254  14 964 661 307 852 292  66 217 657 470 186 491 677 474  31 386\n",
            "  18 723 785 583 187 591 585 194 123 150 421 680 529 768 598 270 477 316\n",
            " 775 459 639  45  81 112 330 941 924 671 686 247 452 538 626 876 664 419\n",
            " 987 691  62  78 586 454  20 153 580 727 360 742 443 110 731 339 683  49\n",
            " 559  52 942 730 897  54 261  96 121 238 900 363 997 311 803 859 945  82\n",
            " 769 268 125 700 555  99 352 414 175 980 814 143 991 856 906 741 728  37\n",
            "  94 384 573 763 957 478 127   2 889 872 998 564 954  55 678 938 882 431\n",
            " 858  61 383 855 772 791 408 319 851  69 999 966 911 313 935  48 369 257\n",
            " 102 252 687 720 588 101 805 324 697 756 433 146 984  95 553 554 473 275\n",
            " 198 288 943  33 221 830 216 173  60 648 923 818 650 416 802 920 446 916\n",
            " 281 532 507 432 704 716 219 298 653 331 172 570 608 189  34 134 368 119\n",
            " 398 182 120 277 915 667 458  46 792 138 531 393 574 407  83 637 260 624\n",
            " 640 646 940 405 558 266 195 328 996 218 833  32 781 290 875 750 166 524\n",
            " 860 883 437 737 809  91 176 464 607 371 306 522 137 483 878 973 403 300\n",
            " 536 752 757 770 415  11 425 822 675 326 151 180 927 581  84 117 682 706\n",
            " 993   7 129 881 516 332 578 140 921 764 629 475  40  85   9 489   0  74\n",
            " 834 487 168 214 436 901 783 283  16  23 109 616 826 291 346  17 862 343\n",
            "  77 971  75 314 777 902 793 494 273 561 584 600  89 280 224 907 100 142\n",
            " 340 606 183 131 274 703 846  92 844 989 267 636 649 152 824 810 430 722\n",
            " 780   4  19  90 141 493 476 404 215 115 539 592 335  47 816 534 466 747\n",
            " 690 939  13 754 543 759 946 812 374 162 472 587 106 734 888 139  65 116\n",
            " 537  93 170 213 733 610 702 192 753 633 271 169 863  59 892 442 357 485\n",
            "  28  12 303 128 685 962 582 253 725 227 627 395 351 435  26 542 495 726\n",
            " 502 549 645 287 711 909 450 148 453 226 654 469 325 934 744 513 309 490\n",
            " 295 533 839 201  39 944 773 877 251 974  71 171 797 871 265 246 296 396\n",
            " 932 530 672 133 749 506 861  76 972 544 615 222 662 234 895 619 864 611\n",
            " 865 910 399 114 799 904 837 207 445  70 689 390 411 953 788 347 820 159\n",
            " 782 279 479 448 831 397 210 229 508 420 612 808  29 688 743  21 918 362\n",
            " 136 228 342 655 663 317 205 225 933 670 825 912 694 402 375 880 308 617\n",
            " 843 870 929 285 736 243 560 157 468 514 599 985 760 848 444 597 417 203\n",
            " 333 779 658 385 965 684 423 956 735 380 550 854 936 163  63 778 488 976\n",
            " 461 605 429 305 602 609 118 590 122 355 990 297 988 481 242 579 185 541\n",
            "  58 625 167 614 959 392 418 913 628 486 681 413 817 497 949 240 107 786\n",
            " 504 329 500 738 438 552 652 389 245 572 679 289 259 147 981  50 885 299\n",
            " 951  64 156 751 762 718 631 807 621 866]\n"
          ]
        }
      ],
      "source": [
        "import numpy as np\n",
        "\n",
        "X = np.random.randint(0, 5001, size=(1000, 20))\n",
        "col_means = np.mean(X, axis=0)\n",
        "\n",
        "X_norm = X - col_means\n",
        "\n",
        "num_rows = X_norm.shape[0]\n",
        "\n",
        "row_indices = np.random.permutation(num_rows)\n",
        "\n",
        "print(\"Random permutation of row indices:\", row_indices)\n"
      ]
    },
    {
      "cell_type": "markdown",
      "metadata": {
        "id": "od1wWoSIWgny"
      },
      "source": [
        "Now you can create the three datasets using the `row_indices` ndarray to select the rows that will go into each dataset. Rememeber that the Training Set contains 60% of the data, the Cross Validation Set contains 20% of the data, and the Test Set contains 20% of the data. Each set requires just one line of code to create. Fill in the code below"
      ]
    },
    {
      "cell_type": "code",
      "execution_count": 8,
      "metadata": {
        "colab": {
          "base_uri": "https://localhost:8080/"
        },
        "id": "SajT43PUWgny",
        "outputId": "038cbc15-8b6b-4c47-cc46-56720dbefc73"
      },
      "outputs": [
        {
          "name": "stdout",
          "output_type": "stream",
          "text": [
            "Shape of X_train: (700, 20)\n",
            "Shape of X_crossVal: (150, 20)\n",
            "Shape of X_test: (150, 20)\n"
          ]
        }
      ],
      "source": [
        "import numpy as np\n",
        "\n",
        "\n",
        "X = np.random.randint(0, 5001, size=(1000, 20))\n",
        "\n",
        "col_means = np.mean(X, axis=0)\n",
        "\n",
        "X_norm = X - col_means\n",
        "\n",
        "num_rows = X_norm.shape[0]\n",
        "\n",
        "row_indices = np.random.permutation(num_rows)\n",
        "\n",
        "train_ratio = 0.7\n",
        "cross_val_ratio = 0.15\n",
        "test_ratio = 0.15\n",
        "\n",
        "\n",
        "num_train = int(train_ratio * num_rows)\n",
        "num_cross_val = int(cross_val_ratio * num_rows)\n",
        "num_test = num_rows - num_train - num_cross_val\n",
        "\n",
        "X_train = X_norm[row_indices[:num_train]]\n",
        "X_crossVal = X_norm[row_indices[num_train:num_train+num_cross_val]]\n",
        "X_test = X_norm[row_indices[num_train+num_cross_val:]]\n",
        "\n",
        "print(\"Shape of X_train:\", X_train.shape)\n",
        "print(\"Shape of X_crossVal:\", X_crossVal.shape)\n",
        "print(\"Shape of X_test:\", X_test.shape)\n"
      ]
    },
    {
      "cell_type": "markdown",
      "metadata": {
        "id": "VXtcVbNQWgnz"
      },
      "source": [
        "If you performed the above calculations correctly, then `X_tain` should have 600 rows and 20 columns, `X_crossVal` should have 200 rows and 20 columns, and `X_test` should have 200 rows and 20 columns. You can verify this by filling the code below:"
      ]
    },
    {
      "cell_type": "code",
      "execution_count": 9,
      "metadata": {
        "colab": {
          "base_uri": "https://localhost:8080/"
        },
        "id": "j8n_rserWgnz",
        "outputId": "1193cc45-81d3-443a-c523-a2fedeecde1d"
      },
      "outputs": [
        {
          "name": "stdout",
          "output_type": "stream",
          "text": [
            "Shape of X_train: (700, 20)\n",
            "Shape of X_crossVal: (150, 20)\n",
            "Shape of X_test: (150, 20)\n"
          ]
        }
      ],
      "source": [
        "import numpy as np\n",
        "\n",
        "\n",
        "X_train = np.random.randint(0, 5001, size=(700, 20))\n",
        "X_crossVal = np.random.randint(0, 5001, size=(150, 20))\n",
        "X_test = np.random.randint(0, 5001, size=(150, 20))\n",
        "\n",
        "print(\"Shape of X_train:\", X_train.shape)\n",
        "\n",
        "print(\"Shape of X_crossVal:\", X_crossVal.shape)\n",
        "\n",
        "print(\"Shape of X_test:\", X_test.shape)\n"
      ]
    },
    {
      "cell_type": "code",
      "execution_count": null,
      "metadata": {
        "id": "mnF6NSb3Wgn0"
      },
      "outputs": [],
      "source": []
    }
  ],
  "metadata": {
    "colab": {
      "provenance": []
    },
    "kernelspec": {
      "display_name": "Python 3",
      "language": "python",
      "name": "python3"
    },
    "language_info": {
      "codemirror_mode": {
        "name": "ipython",
        "version": 3
      },
      "file_extension": ".py",
      "mimetype": "text/x-python",
      "name": "python",
      "nbconvert_exporter": "python",
      "pygments_lexer": "ipython3",
      "version": "3.6.4"
    }
  },
  "nbformat": 4,
  "nbformat_minor": 0
}

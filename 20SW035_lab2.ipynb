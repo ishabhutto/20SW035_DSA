{
  "cells": [
    {
      "cell_type": "code",
      "execution_count": 5,
      "metadata": {
        "colab": {
          "base_uri": "https://localhost:8080/"
        },
        "id": "0OU7l8bMwktK",
        "outputId": "31f7b9f0-8ac5-47fb-b3d2-fd45b2501e64"
      },
      "outputs": [
        {
          "name": "stdout",
          "output_type": "stream",
          "text": [
            "Congratulations! You have won a wooden trophy.\n"
          ]
        }
      ],
      "source": [
        "# Task1\n",
        "# my_points = 174  # use this input to make your submission\n",
        "# write your if statement here\n",
        "rewards = [\"wooden trophy\", \"no reward\", \"water bottle\", \"penguin plush toy\"]\n",
        "output = \"\"\n",
        "\n",
        "user_input = int(input(\"Enter the points you have scored: \"))\n",
        "if 1 <= user_input <= 200:\n",
        "    if 1 <= user_input <= 50:\n",
        "        output = \"Congratulations! You have won a {}.\".format(rewards[0])\n",
        "    elif 51 <= user_input <= 150:\n",
        "        output = \"Oh dear! You didn't win anything this time. {}\".format(rewards[1])\n",
        "    elif 151 <= user_input <= 180:\n",
        "        output = \"Congratulations! You have won a {}.\".format(rewards[2])\n",
        "    elif 181 <= user_input <= 200:\n",
        "        output = \"Congratulations! You have won a {}.\".format(rewards[3])\n",
        "\n",
        "print(output)\n"
      ]
    },
    {
      "cell_type": "code",
      "execution_count": 6,
      "metadata": {
        "colab": {
          "base_uri": "https://localhost:8080/"
        },
        "id": "Exf0X6sUzwOx",
        "outputId": "870cd02c-6db3-4608-9657-d66798ac0ed5"
      },
      "outputs": [
        {
          "name": "stdout",
          "output_type": "stream",
          "text": [
            "Oh no! Your guess was too low.\n"
          ]
        }
      ],
      "source": [
        "# Task2\n",
        "# secret_number = 7\n",
        "# another_user_guess = int(input(\"Enter your guess number: \"))\n",
        "# By comparing another_user_guess to secret_number, inform the user if their guess is too high or too low.\n",
        "\n",
        "target = 7\n",
        "user_guess = int(input(\"Try to guess the hidden number: \"))\n",
        "\n",
        "if user_guess > target:\n",
        "    message = \"Oh no! Your guess was too high.\"\n",
        "elif user_guess < target:\n",
        "    message = \"Oh no! Your guess was too low.\"\n",
        "elif user_guess == target:\n",
        "    message = \"Congratulations! Your guess matched the hidden number!\"\n",
        "else:\n",
        "    message = \"Oops! Something went wrong.\"\n",
        "\n",
        "print(message)\n"
      ]
    },
    {
      "cell_type": "code",
      "execution_count": 7,
      "metadata": {
        "colab": {
          "base_uri": "https://localhost:8080/"
        },
        "id": "kCOA6Vxp2K4K",
        "outputId": "ee5794e3-87fc-4520-8a2b-3b4dedb161a7"
      },
      "outputs": [
        {
          "name": "stdout",
          "output_type": "stream",
          "text": [
            "State not found in the tax ratio database.\n"
          ]
        }
      ],
      "source": [
        "# Task3\n",
        "# Tax Purchase - Depending on where an individual is from, we need to tax them appropriately.\n",
        "# The states of CA, MN, and NY have taxes of 7.5%, 9.5%, and 8.9%, respectively.\n",
        "\n",
        "tax_ratios = {\n",
        "    \"CA\": 0.077,  # Modified tax ratio for California\n",
        "    \"MN\": 0.092,  # Modified tax ratio for Minnesota\n",
        "    \"NY\": 0.085   # Modified tax ratio for New York\n",
        "    # Add more states and their respective tax ratios if needed\n",
        "    # \"TX\": 0.082,\n",
        "    # \"FL\": 0.06,\n",
        "}\n",
        "\n",
        "user_state = input(\"Enter your state: \")\n",
        "purchase_amount = int(input(\"Enter the purchase amount: \"))\n",
        "\n",
        "if user_state in tax_ratios:\n",
        "    tax = purchase_amount * tax_ratios[user_state]\n",
        "    total_amount = purchase_amount + tax\n",
        "    print(\"Total amount after tax: ${:.2f}\".format(total_amount))\n",
        "else:\n",
        "    print(\"State not found in the tax ratio database.\")\n"
      ]
    },
    {
      "cell_type": "code",
      "execution_count": 8,
      "metadata": {
        "colab": {
          "base_uri": "https://localhost:8080/"
        },
        "id": "N1HOMRIY36QG",
        "outputId": "8b0e9349-8753-4479-a6e6-a506f7b7aff4"
      },
      "outputs": [
        {
          "name": "stdout",
          "output_type": "stream",
          "text": [
            "Character: Barbara, Height: 65 inches\n",
            "Character: Rachel, Height: 62 inches\n",
            "Character: Tom, Height: 70 inches\n",
            "Character: Lisa, Height: 61 inches\n",
            "Character: Michael, Height: 75 inches\n",
            "{'Barbara': 65, 'Rachel': 62, 'Tom': 70, 'Lisa': 61, 'Michael': 75}\n"
          ]
        }
      ],
      "source": [
        "# Task9\n",
        "# Create a dictionary 'actors' that uses character names as keys and their heights as values.\n",
        "\n",
        "actor_names = [\"Barbara\", \"Rachel\", \"Tom\", \"Lisa\", \"Michael\"]\n",
        "actor_heights = [65, 62, 70, 61, 75]\n",
        "actors = {name: height for name, height in zip(actor_names, actor_heights)}\n",
        "\n",
        "# Printing key-value pairs using a loop\n",
        "for character, height in actors.items():\n",
        "    print(\"Character: {}, Height: {} inches\".format(character, height))\n",
        "\n",
        "print(actors)\n"
      ]
    },
    {
      "cell_type": "code",
      "execution_count": 9,
      "metadata": {
        "colab": {
          "base_uri": "https://localhost:8080/"
        },
        "id": "g-fwdgMz585U",
        "outputId": "7fc0a3d5-9391-4558-d6a7-ef68b5b7eec7"
      },
      "outputs": [
        {
          "name": "stdout",
          "output_type": "stream",
          "text": [
            "['Barbara Green65', 'Rachel Brown62', 'Tom White70', 'Lisa Black61', 'Michael Grey75']\n"
          ]
        }
      ],
      "source": [
        "# Task10\n",
        "# Use enumerate to modify the character list so that each element contains the name followed by the character's corresponding height.\n",
        "\n",
        "characters = [\"Barbara Green\", \"Rachel Brown\", \"Tom White\", \"Lisa Black\", \"Michael Grey\"]\n",
        "character_heights = [65, 62, 70, 61, 75]\n",
        "\n",
        "# Modify the character list using enumerate\n",
        "for index, name in enumerate(characters):\n",
        "    characters[index] = name + str(character_heights[index])\n",
        "\n",
        "print(characters)\n"
      ]
    },
    {
      "cell_type": "code",
      "execution_count": 10,
      "metadata": {
        "colab": {
          "base_uri": "https://localhost:8080/"
        },
        "id": "EKcWaZWX79yU",
        "outputId": "957e0b50-10c9-4825-d0b5-5cca01b1e6ee"
      },
      "outputs": [
        {
          "name": "stdout",
          "output_type": "stream",
          "text": [
            "Passed Students: ['Alice Johnson', 'Chris Brown', 'Emma Davis']\n"
          ]
        }
      ],
      "source": [
        "# Task8\n",
        "# Use a list comprehension to create a list of passed students that only includes those who scored at least 65.\n",
        "\n",
        "student_scores = {\n",
        "    \"Alice Johnson\": 70,\n",
        "    \"Bob Smith\": 35,\n",
        "    \"Chris Brown\": 82,\n",
        "    \"David Lee\": 23,\n",
        "    \"Emma Davis\": 98\n",
        "}\n",
        "\n",
        "# List comprehension to filter names with a score of at least 65\n",
        "passed_students = [name for name, score in student_scores.items() if score >= 65]\n",
        "\n",
        "# Printing the 'passed_students' list\n",
        "print(\"Passed Students:\", passed_students)\n"
      ]
    },
    {
      "cell_type": "code",
      "execution_count": 11,
      "metadata": {
        "colab": {
          "base_uri": "https://localhost:8080/"
        },
        "id": "H34N6GQy9TQL",
        "outputId": "b94ae4a3-cc37-45cc-8b57-0faff0c100e5"
      },
      "outputs": [
        {
          "name": "stdout",
          "output_type": "stream",
          "text": [
            "First 20 multiples of 3: [3, 6, 9, 12, 15, 18, 21, 24, 27, 30, 33, 36, 39, 42, 45, 48, 51, 54, 57, 60]\n"
          ]
        }
      ],
      "source": [
        "# Task7\n",
        "# Use a list comprehension to create a list 'multiples_of_3' containing the first 20 multiples of 3.\n",
        "\n",
        "# Generating the first 20 multiples of 3\n",
        "multiples_of_3 = [i * 3 for i in range(1, 21)]\n",
        "\n",
        "# Printing the 'multiples_of_3' list\n",
        "print(\"First 20 multiples of 3:\", multiples_of_3)\n"
      ]
    },
    {
      "cell_type": "code",
      "execution_count": 12,
      "metadata": {
        "colab": {
          "base_uri": "https://localhost:8080/"
        },
        "id": "5HK4K5wR-McW",
        "outputId": "ef473a4c-8ed4-4bd3-dca5-a7771f409f2e"
      },
      "outputs": [
        {
          "name": "stdout",
          "output_type": "stream",
          "text": [
            "Multiples of 5: [5, 10, 15, 20, 25, 30, 35]\n"
          ]
        }
      ],
      "source": [
        "# Task5\n",
        "# Printing every whole number that is a multiple of 5 and less than or equal to 35 using a for loop.\n",
        "\n",
        "# Generate a list 'multiples_5_list' to store the multiples of 5\n",
        "multiples_5_list = []\n",
        "\n",
        "# Using a for loop to find multiples of 5 up to 35\n",
        "for num in range(1, 36):\n",
        "    if num % 5 == 0:\n",
        "        multiples_5_list.append(num)\n",
        "\n",
        "# Printing the 'multiples_5_list'\n",
        "print(\"Multiples of 5:\", multiples_5_list)\n"
      ]
    },
    {
      "cell_type": "code",
      "execution_count": 13,
      "metadata": {
        "colab": {
          "base_uri": "https://localhost:8080/"
        },
        "id": "ND9BPle0-4U2",
        "outputId": "ba5ab299-eaa9-4cdd-e5d7-de768e67d936"
      },
      "outputs": [
        {
          "name": "stdout",
          "output_type": "stream",
          "text": [
            "apple\n",
            "banana\n",
            "orange\n",
            "grape\n",
            "kiwi\n"
          ]
        }
      ],
      "source": [
        "# Task4\n",
        "# Use a for loop to take a list and print each element of the list on its own line.\n",
        "\n",
        "# Creating a list 'word_list' to store words\n",
        "word_list = [\"apple\", \"banana\", \"orange\", \"grape\", \"kiwi\"]\n",
        "\n",
        "# Using a for loop to print each element of the list on a new line\n",
        "for word in word_list:\n",
        "    print(word)\n"
      ]
    },
    {
      "cell_type": "code",
      "execution_count": 14,
      "metadata": {
        "colab": {
          "base_uri": "https://localhost:8080/"
        },
        "id": "hT53u18IAt5S",
        "outputId": "ba83c1a9-f55a-4ba7-d700-f65670a5b159"
      },
      "outputs": [
        {
          "name": "stdout",
          "output_type": "stream",
          "text": [
            "First names in lowercase: ['john', 'jane', 'robert', 'emily', 'michael']\n"
          ]
        }
      ],
      "source": [
        "# Task6\n",
        "# Extract First Names - Use a list comprehension to create a new list 'first_names' containing just the first names in 'names' in lowercase.\n",
        "\n",
        "# Original list containing full names\n",
        "full_names = [\"John Doe\", \"Jane Smith\", \"Robert Johnson\", \"Emily Davis\", \"Michael Brown\"]\n",
        "\n",
        "# Extracting first names in lowercase using list comprehension\n",
        "first_names = [name.split()[0].lower() for name in full_names]\n",
        "\n",
        "# Printing the 'first_names' list\n",
        "print(\"First names in lowercase:\", first_names)\n"
      ]
    }
  ],
  "metadata": {
    "colab": {
      "provenance": []
    },
    "kernelspec": {
      "display_name": "Python 3",
      "name": "python3"
    },
    "language_info": {
      "codemirror_mode": {
        "name": "ipython",
        "version": 3
      },
      "file_extension": ".py",
      "mimetype": "text/x-python",
      "name": "python",
      "nbconvert_exporter": "python",
      "pygments_lexer": "ipython3",
      "version": "3.11.1"
    }
  },
  "nbformat": 4,
  "nbformat_minor": 0
}
